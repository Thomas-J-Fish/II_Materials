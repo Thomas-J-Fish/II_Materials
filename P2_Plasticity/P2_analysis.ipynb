{
 "cells": [
  {
   "cell_type": "markdown",
   "id": "63aee26c",
   "metadata": {},
   "source": [
    "# Analysis of Indentation and Tensile plasticity data\n",
    "\n",
    "This notebook documents the analysis of experimental data gathered from both indentation and tensile tests performed on metallic samples. The aim is to characterise the plastic deformation behavior of the materials, compare different testing techniques, and relate mechanical properties to microstructural features.\n",
    "\n",
    "**Key objectives:**\n",
    "- Convert force-displacement data from tensile tests into nominal and true stress-strain curves.\n",
    "- Fit the Voce constitutive law to the experimental data to extract plasticity parameters.\n",
    "- Analyze and compare results from conventional hardness measurements (Vickers, Brinell) and advanced indentation plastometry.\n",
    "- Discuss the relative merits, limitations, and transferability of each technique for material characterisation.\n",
    "- Relate observed mechanical behavior to microstructural features and propose further investigations if needed.\n",
    "\n",
    "This analysis supports a deeper understanding of plastic deformation, work hardening, and the relationship between mechanical properties and microstructure, which are critical for materials selection and design in engineering applications."
   ]
  },
  {
   "cell_type": "code",
   "execution_count": null,
   "id": "41b00f2b",
   "metadata": {
    "vscode": {
     "languageId": "plaintext"
    }
   },
   "outputs": [],
   "source": [
    "# Read Brinell Indentation data"
   ]
  },
  {
   "cell_type": "code",
   "execution_count": null,
   "id": "7e1fd785",
   "metadata": {
    "vscode": {
     "languageId": "plaintext"
    }
   },
   "outputs": [],
   "source": [
    "# Fit Voce parameters to Brinell data"
   ]
  },
  {
   "cell_type": "code",
   "execution_count": null,
   "id": "575bbcb1",
   "metadata": {
    "vscode": {
     "languageId": "plaintext"
    }
   },
   "outputs": [],
   "source": [
    "# Plot Brinell Indentation data and Voce fit"
   ]
  },
  {
   "cell_type": "code",
   "execution_count": null,
   "id": "65c324cf",
   "metadata": {
    "vscode": {
     "languageId": "plaintext"
    }
   },
   "outputs": [],
   "source": [
    "# Read tensile data"
   ]
  },
  {
   "cell_type": "code",
   "execution_count": null,
   "id": "a3d257d9",
   "metadata": {
    "vscode": {
     "languageId": "plaintext"
    }
   },
   "outputs": [],
   "source": [
    "# Fit Voce parameters to tensile data"
   ]
  },
  {
   "cell_type": "code",
   "execution_count": null,
   "id": "c9d9835d",
   "metadata": {
    "vscode": {
     "languageId": "plaintext"
    }
   },
   "outputs": [],
   "source": [
    "# Plot tensile data and Voce fit"
   ]
  }
 ],
 "metadata": {
  "language_info": {
   "name": "python"
  }
 },
 "nbformat": 4,
 "nbformat_minor": 5
}
