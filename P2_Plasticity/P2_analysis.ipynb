{
 "cells": [
  {
   "cell_type": "markdown",
   "id": "63aee26c",
   "metadata": {},
   "source": [
    "# Analysis of Indentation and Tensile plasticity data\n",
    "\n",
    "This notebook documents the analysis of experimental data gathered from both indentation and tensile tests performed on metallic samples. The aim is to characterise the plastic deformation behavior of the materials, compare different testing techniques, and relate mechanical properties to microstructural features.\n",
    "\n",
    "**Key objectives:**\n",
    "- Convert force-displacement data from tensile tests into nominal and true stress-strain curves.\n",
    "- Fit the Voce constitutive law to the experimental data to extract plasticity parameters.\n",
    "- Analyze and compare results from conventional hardness measurements (Vickers, Brinell) and advanced indentation plastometry.\n",
    "- Discuss the relative merits, limitations, and transferability of each technique for material characterisation.\n",
    "- Relate observed mechanical behavior to microstructural features and propose further investigations if needed.\n",
    "\n",
    "This analysis supports a deeper understanding of plastic deformation, work hardening, and the relationship between mechanical properties and microstructure, which are critical for materials selection and design in engineering applications."
   ]
  },
  {
   "cell_type": "code",
   "execution_count": null,
   "id": "1c4b9c08",
   "metadata": {},
   "outputs": [],
   "source": [
    "# Imports for analysis\n",
    "\n",
    "import pandas as pd\n",
    "import numpy as np\n",
    "from scipy.optimize import curve_fit\n",
    "import matplotlib.pyplot as plt"
   ]
  },
  {
   "cell_type": "code",
   "execution_count": 12,
   "id": "65c324cf",
   "metadata": {},
   "outputs": [
    {
     "data": {
      "text/html": [
       "<div>\n",
       "<style scoped>\n",
       "    .dataframe tbody tr th:only-of-type {\n",
       "        vertical-align: middle;\n",
       "    }\n",
       "\n",
       "    .dataframe tbody tr th {\n",
       "        vertical-align: top;\n",
       "    }\n",
       "\n",
       "    .dataframe thead th {\n",
       "        text-align: right;\n",
       "    }\n",
       "</style>\n",
       "<table border=\"1\" class=\"dataframe\">\n",
       "  <thead>\n",
       "    <tr style=\"text-align: right;\">\n",
       "      <th></th>\n",
       "      <th>Force/N</th>\n",
       "      <th>Displacement/mm</th>\n",
       "      <th>Stress/MPa</th>\n",
       "      <th>Nominal Strain/%</th>\n",
       "      <th>True Stress/MPa</th>\n",
       "      <th>True Strain/%</th>\n",
       "    </tr>\n",
       "  </thead>\n",
       "  <tbody>\n",
       "    <tr>\n",
       "      <th>0</th>\n",
       "      <td>0</td>\n",
       "      <td>0</td>\n",
       "      <td>0.0</td>\n",
       "      <td>0.0</td>\n",
       "      <td>0.0</td>\n",
       "      <td>0.0</td>\n",
       "    </tr>\n",
       "  </tbody>\n",
       "</table>\n",
       "</div>"
      ],
      "text/plain": [
       "   Force/N  Displacement/mm  Stress/MPa  Nominal Strain/%  True Stress/MPa  \\\n",
       "0        0                0         0.0               0.0              0.0   \n",
       "\n",
       "   True Strain/%  \n",
       "0            0.0  "
      ]
     },
     "execution_count": 12,
     "metadata": {},
     "output_type": "execute_result"
    }
   ],
   "source": [
    "# Read tensile data\n",
    "\n",
    "filepath1 = \"/Users/thomasfish/Desktop/University_Work/II_Materials/P2_Plasticity/Tensile_data.csv\"\n",
    "T_dat = pd.read_csv(filepath1, header=0)\n",
    "T_dat.head()\n",
    "\n",
    "Area=1\n",
    "Natural_Length=1\n",
    "\n",
    "T_dat['Stress/MPa'] = T_dat['Force/N'] / (Area) / 1e6\n",
    "T_dat['Nominal Strain/%'] = (T_dat['Displacement/mm'] / Natural_Length) * 100\n",
    "T_dat['True Stress/MPa'] = T_dat['Stress/MPa'] * (1 + T_dat['Nominal Strain/%'] / 100)\n",
    "T_dat['True Strain/%'] = np.log(1 + T_dat['Nominal Strain/%'] / 100) * 100\n",
    "T_dat.head()"
   ]
  },
  {
   "cell_type": "code",
   "execution_count": null,
   "id": "a3d257d9",
   "metadata": {},
   "outputs": [],
   "source": [
    "# Fit Voce parameters to tensile data\n",
    "\n"
   ]
  },
  {
   "cell_type": "code",
   "execution_count": null,
   "id": "c9d9835d",
   "metadata": {},
   "outputs": [],
   "source": [
    "# Plot tensile data and Voce fit"
   ]
  }
 ],
 "metadata": {
  "kernelspec": {
   "display_name": "fishbowlV1",
   "language": "python",
   "name": "python3"
  },
  "language_info": {
   "codemirror_mode": {
    "name": "ipython",
    "version": 3
   },
   "file_extension": ".py",
   "mimetype": "text/x-python",
   "name": "python",
   "nbconvert_exporter": "python",
   "pygments_lexer": "ipython3",
   "version": "3.12.11"
  }
 },
 "nbformat": 4,
 "nbformat_minor": 5
}
