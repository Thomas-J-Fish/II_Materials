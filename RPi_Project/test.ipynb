{
 "cells": [
  {
   "cell_type": "code",
   "execution_count": null,
   "id": "74567b95",
   "metadata": {},
   "outputs": [],
   "source": [
    "# CamJam EduKit 3 - Robotics\n",
    "# Worksheet 3 - Motor Test Code\n",
    "\n",
    "import RPi.GPIO as GPIO  # Import the GPIO Library\n",
    "import time  # Import the Time library\n",
    "\n",
    "# Set the GPIO modes\n",
    "GPIO.setmode(GPIO.BCM)\n",
    "GPIO.setwarnings(False)\n",
    "\n",
    "# Set the GPIO Pin mode\n",
    "GPIO.setup(7, GPIO.OUT)\n",
    "GPIO.setup(8, GPIO.OUT)\n",
    "GPIO.setup(9, GPIO.OUT)\n",
    "GPIO.setup(10, GPIO.OUT)\n",
    "\n",
    "# Turn all motors off\n",
    "GPIO.output(7, 0)\n",
    "GPIO.output(8, 0)\n",
    "GPIO.output(9, 0)\n",
    "GPIO.output(10, 0)\n",
    "\n",
    "# Turn the right motor forwards\n",
    "GPIO.output(9, 0)\n",
    "GPIO.output(10, 1)\n",
    "\n",
    "# Turn the left motor forwards\n",
    "GPIO.output(7, 0)\n",
    "GPIO.output(8, 1)\n",
    "\n",
    "# Wait for 1 seconds\n",
    "time.sleep(1)\n",
    "\n",
    "# Reset the GPIO pins (turns off motors too)\n",
    "GPIO.cleanup()"
   ]
  },
  {
   "cell_type": "code",
   "execution_count": null,
   "id": "7db22005",
   "metadata": {},
   "outputs": [],
   "source": [
    "import RPi.GPIO as GPIO\n",
    "import time\n",
    "\n",
    "GPIO.setmode(GPIO.BCM)\n",
    "GPIO.setwarnings(False)\n",
    "\n",
    "GPIO.setup(7, GPIO.OUT)\n",
    "GPIO.setup(8, GPIO.OUT)\n",
    "GPIO.setup(9, GPIO.OUT)\n",
    "GPIO.setup(10, GPIO.OUT)\n",
    "\n",
    "def motor_control(pin1, pin2, duration):"
   ]
  },
  {
   "cell_type": "code",
   "execution_count": null,
   "id": "b6d3fa57",
   "metadata": {},
   "outputs": [],
   "source": [
    "import time\n",
    "from gpiozero import CamJamKitRobot\n",
    "\n",
    "robot = CamJamKitRobot()\n",
    "\n",
    "def party_time():\n",
    "    for _ in range(5):\n",
    "        robot.forward()\n",
    "        time.sleep(0.5)\n",
    "        robot.backward()\n",
    "        time.sleep(0.5)\n",
    "        robot.left()\n",
    "        time.sleep(0.5)\n",
    "        robot.right()\n",
    "        time.sleep(0.5)\n",
    "    robot.stop()\n",
    "\n",
    "party_time()"
   ]
  }
 ],
 "metadata": {
  "kernelspec": {
   "display_name": "fishbowlV1",
   "language": "python",
   "name": "python3"
  },
  "language_info": {
   "name": "python",
   "version": "3.12.11"
  }
 },
 "nbformat": 4,
 "nbformat_minor": 5
}
